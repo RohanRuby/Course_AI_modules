{
 "cells": [
  {
   "cell_type": "code",
   "execution_count": 28,
   "id": "d419a9d4-f5ce-411f-be95-166df2706245",
   "metadata": {},
   "outputs": [],
   "source": [
    "import pandas as pd\n",
    "import numpy as np\n",
    "import matplotlib.pyplot as plt\n",
    "import numpy as np\n",
    "from sklearn.cluster import KMeans"
   ]
  },
  {
   "cell_type": "code",
   "execution_count": 29,
   "id": "9ea30dec-8b6f-433e-93ce-55f5f0ae5955",
   "metadata": {},
   "outputs": [],
   "source": [
    "# Read data\n",
    "dataset_BJ = pd.read_csv('/Users/liruohan/Documents/DocumentsMacBookPro/2024Spring/StudyPeriod01/DesignOfAISystems/Assignment/module3/Cities/Beijing_labeled.csv')\n",
    "dataset_SY = pd.read_csv('/Users/liruohan/Documents/DocumentsMacBookPro/2024Spring/StudyPeriod01/DesignOfAISystems/Assignment/module3/Cities/Shenyang_labeled.csv')\n",
    "\n",
    "dataset_SH = pd.read_csv('/Users/liruohan/Documents/DocumentsMacBookPro/2024Spring/StudyPeriod01/DesignOfAISystems/Assignment/module3/Cities/Shanghai_labeled.csv')\n",
    "dataset_GZ = pd.read_csv('/Users/liruohan/Documents/DocumentsMacBookPro/2024Spring/StudyPeriod01/DesignOfAISystems/Assignment/module3/Cities/Guangzhou_labeled.csv')\n",
    "\n",
    "\n",
    "#Train dataset without the PM labels\n",
    "dataset_BJ_SY = pd.concat([dataset_BJ.iloc[:,:], dataset_SY.iloc[:,:]], ignore_index=True)\n"
   ]
  },
  {
   "cell_type": "code",
   "execution_count": 30,
   "id": "af67c3c9",
   "metadata": {},
   "outputs": [],
   "source": [
    "class kmeans_classifier:\n",
    "    def __init__(self, n_clusters=2):\n",
    "        self.n_clusters = n_clusters\n",
    "        self.kmeans = KMeans(n_clusters=n_clusters, random_state=0)\n",
    "        # The kmeans clustering result labels\n",
    "        self.labels = {}\n",
    "\n",
    "    def Fit(self, X, Y):\n",
    "        self.kmeans.fit(X)\n",
    "        self.clusters = self.kmeans.predict(X)\n",
    "        for cluster_id in range(self.n_clusters):\n",
    "            #Get labels from Y\n",
    "            indices = np.where(self.clusters == cluster_id)[0]\n",
    "            Y_labels = Y[indices]\n",
    "\n",
    "            label_1_size = Y_labels.sum()\n",
    "            label_0_size = Y_labels.shape[0] - label_1_size\n",
    "            if(label_0_size > label_1_size):\n",
    "                self.labels[cluster_id] = 0\n",
    "            else:\n",
    "                self.labels[cluster_id] = 1\n",
    "\n",
    "    def Predict(self, X):\n",
    "        clusters = self.kmeans.predict(X)\n",
    "        Y = np.array([self.labels[cluster] for cluster in clusters])\n",
    "        return Y\n",
    "    \n",
    "    def Score(self, Y_predicted, Y):\n",
    "        accuracy = np.mean(Y_predicted == Y)\n",
    "        return accuracy\n"
   ]
  },
  {
   "cell_type": "code",
   "execution_count": 31,
   "id": "020f0cc8",
   "metadata": {},
   "outputs": [
    {
     "name": "stdout",
     "output_type": "stream",
     "text": [
      "Training accuracy: \n",
      "[0.72494831 0.72494831 0.73220972 0.7308266  0.7308266  0.71086966\n",
      " 0.75504413 0.74812422 0.75054469]\n",
      "Validation accuracy: \n",
      "[0.72489294 0.72489294 0.72965879 0.729866   0.73532256 0.74519961\n",
      " 0.75873739 0.75086338 0.74699544]\n",
      "8\n"
     ]
    }
   ],
   "source": [
    "#Cross validation with c=6\n",
    "size = dataset_BJ_SY.shape[0]\n",
    "c = 6\n",
    "validationSize = int(size/c)\n",
    "#initialize k\n",
    "k_0 = 0\n",
    "# Choose k\n",
    "accuracy_train = np.zeros(11)\n",
    "accuracy_validate = np.zeros(11)\n",
    "\n",
    "for k in range(2,11):\n",
    "    for i in range(6):\n",
    "        if (i < 5):\n",
    "            dataset_validate = dataset_BJ_SY.iloc[i*validationSize : (i+1)*validationSize]\n",
    "            dataset_train = pd.concat([dataset_BJ_SY.iloc[ : i*validationSize], dataset_BJ_SY.iloc[(i+1)*validationSize : ]], ignore_index=True)\n",
    "        else:\n",
    "            dataset_validate = dataset_BJ_SY.iloc[i*validationSize : ]\n",
    "            dataset_train = pd.concat([dataset_BJ_SY.iloc[ : i*validationSize], dataset_BJ_SY.iloc[(i+1)*validationSize : ]], ignore_index=True)\n",
    "\n",
    "        #features and labels\n",
    "        X_train = dataset_train.iloc[:, :-1]\n",
    "        Y_train = dataset_train.iloc[:, -1]\n",
    "        X_validate = dataset_validate.iloc[:, :-1]\n",
    "        Y_validate = dataset_validate.iloc[:, -1]\n",
    "\n",
    "        #Initialize\n",
    "        kmeansClassifier = kmeans_classifier(k)\n",
    "        #Fit\n",
    "        kmeansClassifier.Fit(X_train,Y_train)\n",
    "        #Validation\n",
    "        Y_train_predicted = kmeansClassifier.Predict(X_train)\n",
    "        Y_validate_predicted = kmeansClassifier.Predict(X_validate)\n",
    "        #Evaluate\n",
    "        accuracy_validate[k] += kmeansClassifier.Score(Y_train_predicted,Y_train)\n",
    "        accuracy_train[k] += kmeansClassifier.Score(Y_validate_predicted,Y_validate)\n",
    "\n",
    "    accuracy_validate[k] = accuracy_validate[k] / c\n",
    "    accuracy_train[k] = accuracy_train[k] / c\n",
    "\n",
    "print(\"Training accuracy: \")\n",
    "print(accuracy_train[2:])\n",
    "print(\"Validation accuracy: \")\n",
    "print(accuracy_validate[2:])\n",
    "\n",
    "for k in range(11):\n",
    "    if accuracy_validate[k] == accuracy_validate.max():\n",
    "        #k_0 is the k value adopted for kmeans clustering\n",
    "        k_0 = k\n",
    "        print(k)\n"
   ]
  },
  {
   "cell_type": "code",
   "execution_count": 32,
   "id": "146bdfc9",
   "metadata": {},
   "outputs": [
    {
     "name": "stdout",
     "output_type": "stream",
     "text": [
      "The accuracy of predicted PM_HIGH for dataset Beijing is:  0.7339\n",
      "The accuracy of predicted PM_HIGH for dataset Shenyang is:  0.8204\n",
      "The accuracy of predicted PM_HIGH for dataset Guangzhou is:  0.9223\n",
      "The accuracy of predicted PM_HIGH for dataset Shanghai is:  0.8372\n"
     ]
    }
   ],
   "source": [
    "#Initialize\n",
    "kmeansClassifierT = kmeans_classifier(k_0)\n",
    "#Fit with k = k_0 with all the data in BJ and SY\n",
    "X_train = dataset_BJ_SY.iloc[:, :-1]\n",
    "Y_train = dataset_BJ_SY.iloc[:, -1]\n",
    "kmeansClassifierT.Fit(X_train, Y_train)\n",
    "\n",
    "#Predict for data in Beijing, Shenyang, Guangzhou and Shanghai\n",
    "X_BJ = dataset_BJ.iloc[:, :-1]\n",
    "Y_BJ = dataset_BJ.iloc[:, -1]\n",
    "accuracy_BJ = kmeansClassifierT.Score(kmeansClassifierT.Predict(X_BJ), Y_BJ)\n",
    "print(f\"The accuracy of predicted PM_HIGH for dataset Beijing is:  {accuracy_BJ:.4f}\")\n",
    "\n",
    "X_SY = dataset_SY.iloc[:, :-1]\n",
    "Y_SY = dataset_SY.iloc[:, -1]\n",
    "accuracy_SY = kmeansClassifierT.Score(kmeansClassifierT.Predict(X_SY), Y_SY)\n",
    "print(f\"The accuracy of predicted PM_HIGH for dataset Shenyang is:  {accuracy_SY:.4f}\")\n",
    "\n",
    "X_GZ = dataset_GZ.iloc[:, :-1]\n",
    "Y_GZ = dataset_GZ.iloc[:, -1]\n",
    "accuracy_GZ = kmeansClassifierT.Score(kmeansClassifierT.Predict(X_GZ), Y_GZ)\n",
    "print(f\"The accuracy of predicted PM_HIGH for dataset Guangzhou is:  {accuracy_GZ:.4f}\")\n",
    "\n",
    "X_SH = dataset_SH.iloc[:, :-1]\n",
    "Y_SH = dataset_SH.iloc[:, -1]\n",
    "accuracy_SH = kmeansClassifierT.Score(kmeansClassifierT.Predict(X_SH), Y_SH)\n",
    "print(f\"The accuracy of predicted PM_HIGH for dataset Shanghai is:  {accuracy_SH:.4f}\")\n"
   ]
  }
 ],
 "metadata": {
  "kernelspec": {
   "display_name": "Python 3 (ipykernel)",
   "language": "python",
   "name": "python3"
  },
  "language_info": {
   "codemirror_mode": {
    "name": "ipython",
    "version": 3
   },
   "file_extension": ".py",
   "mimetype": "text/x-python",
   "name": "python",
   "nbconvert_exporter": "python",
   "pygments_lexer": "ipython3",
   "version": "3.11.5"
  }
 },
 "nbformat": 4,
 "nbformat_minor": 5
}

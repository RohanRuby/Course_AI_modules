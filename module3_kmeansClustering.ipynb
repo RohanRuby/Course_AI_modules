{
 "cells": [
  {
   "cell_type": "code",
   "execution_count": 49,
   "id": "d419a9d4-f5ce-411f-be95-166df2706245",
   "metadata": {},
   "outputs": [],
   "source": [
    "import pandas as pd\n",
    "import numpy as np\n",
    "import matplotlib.pyplot as plt\n",
    "import numpy as np\n",
    "from sklearn.cluster import KMeans"
   ]
  },
  {
   "cell_type": "code",
   "execution_count": 50,
   "id": "9ea30dec-8b6f-433e-93ce-55f5f0ae5955",
   "metadata": {},
   "outputs": [],
   "source": [
    "# Read data\n",
    "dataset_BJ = pd.read_csv('/Users/liruohan/Documents/DocumentsMacBookPro/2024Spring/StudyPeriod01/DesignOfAISystems/Assignment/module3/Cities/Beijing_labeled.csv')\n",
    "dataset_SY = pd.read_csv('/Users/liruohan/Documents/DocumentsMacBookPro/2024Spring/StudyPeriod01/DesignOfAISystems/Assignment/module3/Cities/Shenyang_labeled.csv')\n",
    "\n",
    "dataset_SH = pd.read_csv('/Users/liruohan/Documents/DocumentsMacBookPro/2024Spring/StudyPeriod01/DesignOfAISystems/Assignment/module3/Cities/Shanghai_labeled.csv')\n",
    "dataset_GZ = pd.read_csv('/Users/liruohan/Documents/DocumentsMacBookPro/2024Spring/StudyPeriod01/DesignOfAISystems/Assignment/module3/Cities/Guangzhou_labeled.csv')\n",
    "\n",
    "\n",
    "#Train dataset without the PM labels\n",
    "dataset_BJ_SY = pd.concat([dataset_BJ.iloc[:,:], dataset_SY.iloc[:,:]], ignore_index=True)\n"
   ]
  },
  {
   "cell_type": "code",
   "execution_count": 51,
   "id": "7289c887",
   "metadata": {},
   "outputs": [],
   "source": [
    "#Fit\n",
    "#Return the relation of cluster indexes and labels\n",
    "def kmeansFitting(X, Y, k):\n",
    "    kmeans = KMeans(n_clusters=k, random_state=0) \n",
    "    kmeans.fit(X)\n",
    "    clusters = kmeans.predict(X)\n",
    "    labels = {}\n",
    "    for cluster_id in range(k):\n",
    "        indices = np.where(clusters == cluster_id)[0]\n",
    "        clusters_labels = Y[indices]        \n",
    "        label_1_size = clusters_labels.sum()\n",
    "        label_0_size = clusters_labels.shape[0] - label_1_size\n",
    "        if(label_0_size > label_1_size):\n",
    "            labels[cluster_id] = 0\n",
    "        else:\n",
    "            labels[cluster_id] = 1\n",
    "        \n",
    "    return kmeans,labels"
   ]
  },
  {
   "cell_type": "code",
   "execution_count": 52,
   "id": "1a447065",
   "metadata": {},
   "outputs": [],
   "source": [
    "#Predict\n",
    "def kmeansPredict(X, kmeans, labels):\n",
    "    \n",
    "    clusters = kmeans.predict(X)\n",
    "    Y = np.array([labels[cluster] for cluster in clusters])\n",
    "        \n",
    "    return Y"
   ]
  },
  {
   "cell_type": "code",
   "execution_count": 53,
   "id": "906abab6",
   "metadata": {},
   "outputs": [],
   "source": [
    "#Score\n",
    "def evaluate(Y_predicted, Y):\n",
    "    result = abs(Y_predicted - Y)\n",
    "    wrong_rate = result.sum()/result.shape[0]\n",
    "    return 1 - wrong_rate\n"
   ]
  },
  {
   "cell_type": "code",
   "execution_count": 54,
   "id": "020f0cc8",
   "metadata": {},
   "outputs": [
    {
     "name": "stdout",
     "output_type": "stream",
     "text": [
      "Training accuracy: \n",
      "[0.72489294 0.72489294 0.72965879 0.729866   0.73532256 0.74519961\n",
      " 0.75873739 0.75086338 0.74699544]\n",
      "Validation accuracy: \n",
      "[0.72494831 0.72494831 0.73220972 0.7308266  0.7308266  0.71086966\n",
      " 0.75504413 0.74812422 0.75054469]\n",
      "8\n"
     ]
    }
   ],
   "source": [
    "#Cross validation with c=6\n",
    "size = dataset_BJ_SY.shape[0]\n",
    "c = 6\n",
    "validationSize = int(size/c)\n",
    "#initialize k\n",
    "k_0 = 0\n",
    "# Choose k\n",
    "accuracy_train = np.zeros(11)\n",
    "accuracy_validate = np.zeros(11)\n",
    "\n",
    "for k in range(2,11):\n",
    "    for i in range(6):\n",
    "        if (i < 5):\n",
    "            dataset_validate = dataset_BJ_SY.iloc[i*validationSize : (i+1)*validationSize]\n",
    "            dataset_train = pd.concat([dataset_BJ_SY.iloc[ : i*validationSize], dataset_BJ_SY.iloc[(i+1)*validationSize : ]], ignore_index=True)\n",
    "        else:\n",
    "            dataset_validate = dataset_BJ_SY.iloc[i*validationSize : ]\n",
    "            dataset_train = pd.concat([dataset_BJ_SY.iloc[ : i*validationSize], dataset_BJ_SY.iloc[(i+1)*validationSize : ]], ignore_index=True)\n",
    "\n",
    "        #features and labels\n",
    "        X_train = dataset_train.iloc[:, :-1]\n",
    "        Y_train = dataset_train.iloc[:, -1]\n",
    "        X_validate = dataset_validate.iloc[:, :-1]\n",
    "        Y_validate = dataset_validate.iloc[:, -1]\n",
    "\n",
    "        #Fit\n",
    "        kmeans, labels = kmeansFitting(X_train, Y_train, k)\n",
    "        \n",
    "        #Validation\n",
    "        Y_validate_predicted = kmeansPredict(X_validate, kmeans, labels)\n",
    "        Y_train_predicted = kmeansPredict(X_train, kmeans, labels)\n",
    "        \n",
    "        #Score\n",
    "        acc_validate = evaluate(Y_validate_predicted, Y_validate)\n",
    "        acc_train = evaluate(Y_train_predicted, Y_train)\n",
    "\n",
    "        accuracy_validate[k] += acc_validate\n",
    "        accuracy_train[k] += acc_train\n",
    "\n",
    "    accuracy_validate[k] = accuracy_validate[k] / c\n",
    "    accuracy_train[k] = accuracy_train[k] / c\n",
    "\n",
    "print(\"Training accuracy: \")\n",
    "print(accuracy_train[2:])\n",
    "print(\"Validation accuracy: \")\n",
    "print(accuracy_validate[2:])\n",
    "\n",
    "for k in range(11):\n",
    "    if accuracy_validate[k] == accuracy_validate.max():\n",
    "        k_0 = k\n",
    "        print(k)\n"
   ]
  },
  {
   "cell_type": "code",
   "execution_count": 55,
   "id": "146bdfc9",
   "metadata": {},
   "outputs": [
    {
     "name": "stdout",
     "output_type": "stream",
     "text": [
      "The predicted value of PM_HIGH for dataset Guangzhou is: 0.9223372781065089\n",
      "The predicted value of PM_HIGH for dataset Shanghai is: 0.8371576609918578\n"
     ]
    }
   ],
   "source": [
    "#Predict with k = k_0 for data in Guangzhou and Shanghai\n",
    "X_train = dataset_BJ_SY.iloc[:, :-1]\n",
    "Y_train = dataset_BJ_SY.iloc[:, -1]\n",
    "kmeans, labels = kmeansFitting(X_train, Y_train, k_0)\n",
    "\n",
    "X_GZ = dataset_GZ.iloc[:, :-1]\n",
    "Y_GZ = dataset_GZ.iloc[:, -1]\n",
    "Y_GZ_predicted = kmeansPredict(X_GZ, kmeans, labels)\n",
    "accuracy_GZ = evaluate(Y_GZ_predicted,Y_GZ)\n",
    "print(\"The predicted value of PM_HIGH for dataset Guangzhou is: \" + str(accuracy_GZ))\n",
    "\n",
    "X_SH = dataset_SH.iloc[:, :-1]\n",
    "Y_SH = dataset_SH.iloc[:, -1]\n",
    "Y_SH_predicted = kmeansPredict(X_SH, kmeans, labels)\n",
    "accuracy_SH = evaluate(Y_SH_predicted,Y_SH)\n",
    "print(\"The predicted value of PM_HIGH for dataset Shanghai is: \" + str(accuracy_SH))\n"
   ]
  }
 ],
 "metadata": {
  "kernelspec": {
   "display_name": "Python 3 (ipykernel)",
   "language": "python",
   "name": "python3"
  },
  "language_info": {
   "codemirror_mode": {
    "name": "ipython",
    "version": 3
   },
   "file_extension": ".py",
   "mimetype": "text/x-python",
   "name": "python",
   "nbconvert_exporter": "python",
   "pygments_lexer": "ipython3",
   "version": "3.11.5"
  }
 },
 "nbformat": 4,
 "nbformat_minor": 5
}
